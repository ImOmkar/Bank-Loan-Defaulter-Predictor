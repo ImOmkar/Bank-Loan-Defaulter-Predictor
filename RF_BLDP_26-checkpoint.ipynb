{
 "cells": [
  {
   "cell_type": "code",
   "execution_count": null,
   "metadata": {},
   "outputs": [],
   "source": []
  },
  {
   "cell_type": "code",
   "execution_count": 1,
   "metadata": {},
   "outputs": [
    {
     "name": "stdout",
     "output_type": "stream",
     "text": [
      "Importing packages...\n",
      "imported Successfully\n"
     ]
    }
   ],
   "source": [
    "print('Importing packages...')\n",
    "from datetime import datetime\n",
    "import numpy as np\n",
    "import pandas as pd\n",
    "import xgboost\n",
    "from sklearn.metrics import accuracy_score\n",
    "from sklearn.metrics import auc\n",
    "from sklearn.metrics import roc_auc_score\n",
    "from sklearn.model_selection import train_test_split\n",
    "print('imported Successfully')"
   ]
  },
  {
   "cell_type": "code",
   "execution_count": 2,
   "metadata": {},
   "outputs": [
    {
     "name": "stdout",
     "output_type": "stream",
     "text": [
      "Reading data...\n",
      "Read Data Successfully\n"
     ]
    }
   ],
   "source": [
    "print('Reading data...')\n",
    "dfTrain = pd.read_csv(r'C:\\Users\\adity\\Example1\\example\\venv\\train.csv')\n",
    "dfTest = pd.read_csv(r'C:\\Users\\adity\\Example1\\example\\venv\\test.csv')\n",
    "# All Available Columns: 'member_id', 'loan_amnt', 'funded_amnt', 'addr_state', 'sub_grade', 'term', 'batch_enrolled', 'desc', 'grade', 'emp_length', 'int_rate', 'pymnt_plan', 'initial_list_status', 'home_ownership', 'annual_inc', 'verification_status', 'purpose', 'dti', 'delinq_2yrs', 'inq_last_6mths', 'mths_since_last_delinq', 'mths_since_last_record', 'open_acc', 'pub_rec', 'revol_bal', 'revol_util', 'total_acc', 'application_type', 'verification_status_joint', 'total_rec_int', 'total_rec_late_fee', 'recoveries', 'collection_recovery_fee', 'collections_12_mths_ex_med', 'mths_since_last_major_derog', 'last_week_pay', 'acc_now_delinq', 'tot_coll_amt', 'tot_cur_bal', 'total_rev_hi_lim', 'loan_status\n",
    "dfTrain = dfTrain[['member_id', 'loan_amnt', 'funded_amnt', 'addr_state', 'funded_amnt_inv', 'sub_grade', 'term', 'emp_length', 'int_rate', 'annual_inc', 'dti', 'delinq_2yrs', 'inq_last_6mths', 'mths_since_last_delinq', 'mths_since_last_record', 'open_acc', 'pub_rec', 'revol_bal', 'revol_util', 'total_acc', 'total_rec_int', 'total_rec_late_fee', 'recoveries', 'collection_recovery_fee', 'collections_12_mths_ex_med', 'mths_since_last_major_derog', 'last_week_pay', 'acc_now_delinq', 'tot_coll_amt', 'tot_cur_bal', 'total_rev_hi_lim', 'loan_status']]\n",
    "dfTest = dfTest[['member_id', 'loan_amnt', 'funded_amnt', 'addr_state', 'funded_amnt_inv', 'sub_grade', 'term', 'emp_length', 'int_rate', 'annual_inc', 'dti', 'delinq_2yrs', 'inq_last_6mths', 'mths_since_last_delinq', 'mths_since_last_record', 'open_acc', 'pub_rec', 'revol_bal', 'revol_util', 'total_acc', 'total_rec_int', 'total_rec_late_fee', 'recoveries', 'collection_recovery_fee', 'collections_12_mths_ex_med', 'mths_since_last_major_derog', 'last_week_pay', 'acc_now_delinq', 'tot_coll_amt', 'tot_cur_bal', 'total_rev_hi_lim']]\n",
    "print('Read Data Successfully')"
   ]
  },
  {
   "cell_type": "code",
   "execution_count": 3,
   "metadata": {},
   "outputs": [
    {
     "name": "stdout",
     "output_type": "stream",
     "text": [
      "Transform: term...\n",
      "Transform: emp_length...\n",
      "Transform: last_week_pay...\n",
      "Transform: sub_grade...\n",
      "Transform done.\n"
     ]
    }
   ],
   "source": [
    "'''\n",
    "Data transformation/cleanup\n",
    "Strip off textual parts, represent values as numeric values\n",
    "it makes sense. Convert the datatype to numeric.\n",
    "'''\n",
    "print('Transform: term...')\n",
    "dfTrain['term'].replace(to_replace=' months', value='', regex=True, inplace=True)\n",
    "dfTest['term'].replace(to_replace=' months', value='', regex=True, inplace=True)\n",
    "dfTrain['term'] = pd.to_numeric(dfTrain['term'], errors='coerce')\n",
    "dfTest['term'] = pd.to_numeric(dfTest['term'], errors='coerce')\n",
    "\n",
    "print('Transform: emp_length...')\n",
    "dfTrain['emp_length'].replace('n/a', '0', inplace=True)\n",
    "dfTrain['emp_length'].replace(to_replace='\\+ years', value='', regex=True, inplace=True)\n",
    "dfTrain['emp_length'].replace(to_replace=' years', value='', regex=True, inplace=True)\n",
    "dfTrain['emp_length'].replace(to_replace='< 1 year', value='0', regex=True, inplace=True)\n",
    "dfTrain['emp_length'].replace(to_replace=' year', value='', regex=True, inplace=True)\n",
    "dfTest['emp_length'].replace('n/a', '0', inplace=True)\n",
    "dfTest['emp_length'].replace(to_replace='\\+ years', value='', regex=True, inplace=True)\n",
    "dfTest['emp_length'].replace(to_replace=' years', value='', regex=True, inplace=True)\n",
    "dfTest['emp_length'].replace(to_replace='< 1 year', value='0', regex=True, inplace=True)\n",
    "dfTest['emp_length'].replace(to_replace=' year', value='', regex=True, inplace=True)\n",
    "dfTrain['emp_length'] = pd.to_numeric(dfTrain['emp_length'], errors='coerce')\n",
    "dfTest['emp_length'] = pd.to_numeric(dfTest['emp_length'], errors='coerce')\n",
    "\n",
    "print('Transform: last_week_pay...')\n",
    "dfTrain['last_week_pay'].replace(to_replace='th week', value='', regex=True, inplace=True)\n",
    "dfTest['last_week_pay'].replace(to_replace='th week', value='', regex=True, inplace=True)\n",
    "dfTrain['last_week_pay'].replace(to_replace='NA', value='', regex=True, inplace=True)\n",
    "dfTest['last_week_pay'].replace(to_replace='NA', value='', regex=True, inplace=True)\n",
    "dfTrain['last_week_pay'] = pd.to_numeric(dfTrain['last_week_pay'], errors='coerce')\n",
    "dfTest['last_week_pay'] = pd.to_numeric(dfTest['last_week_pay'], errors='coerce')\n",
    "\n",
    "print('Transform: sub_grade...')\n",
    "dfTrain['sub_grade'].replace(to_replace='A', value='0', regex=True, inplace=True)\n",
    "dfTrain['sub_grade'].replace(to_replace='B', value='1', regex=True, inplace=True)\n",
    "dfTrain['sub_grade'].replace(to_replace='C', value='2', regex=True, inplace=True)\n",
    "dfTrain['sub_grade'].replace(to_replace='D', value='3', regex=True, inplace=True)\n",
    "dfTrain['sub_grade'].replace(to_replace='E', value='4', regex=True, inplace=True)\n",
    "dfTrain['sub_grade'].replace(to_replace='F', value='5', regex=True, inplace=True)\n",
    "dfTrain['sub_grade'].replace(to_replace='G', value='6', regex=True, inplace=True)\n",
    "dfTest['sub_grade'].replace(to_replace='A', value='0', regex=True, inplace=True)\n",
    "dfTest['sub_grade'].replace(to_replace='B', value='1', regex=True, inplace=True)\n",
    "dfTest['sub_grade'].replace(to_replace='C', value='2', regex=True, inplace=True)\n",
    "dfTest['sub_grade'].replace(to_replace='D', value='3', regex=True, inplace=True)\n",
    "dfTest['sub_grade'].replace(to_replace='E', value='4', regex=True, inplace=True)\n",
    "dfTest['sub_grade'].replace(to_replace='F', value='5', regex=True, inplace=True)\n",
    "dfTest['sub_grade'].replace(to_replace='G', value='6', regex=True, inplace=True)\n",
    "dfTrain['sub_grade'] = pd.to_numeric(dfTrain['sub_grade'], errors='coerce')\n",
    "dfTest['sub_grade'] = pd.to_numeric(dfTest['sub_grade'], errors='coerce')\n",
    "\n",
    "print('Transform done.')"
   ]
  },
  {
   "cell_type": "code",
   "execution_count": 4,
   "metadata": {},
   "outputs": [
    {
     "data": {
      "text/plain": [
       "member_id                           0\n",
       "loan_amnt                           0\n",
       "funded_amnt                         0\n",
       "addr_state                          0\n",
       "funded_amnt_inv                     0\n",
       "sub_grade                           0\n",
       "term                                0\n",
       "emp_length                      26891\n",
       "int_rate                            0\n",
       "annual_inc                          3\n",
       "dti                                 0\n",
       "delinq_2yrs                        16\n",
       "inq_last_6mths                     16\n",
       "mths_since_last_delinq         272554\n",
       "mths_since_last_record         450305\n",
       "open_acc                           16\n",
       "pub_rec                            16\n",
       "revol_bal                           0\n",
       "revol_util                        287\n",
       "total_acc                          16\n",
       "total_rec_int                       0\n",
       "total_rec_late_fee                  0\n",
       "recoveries                          0\n",
       "collection_recovery_fee             0\n",
       "collections_12_mths_ex_med         95\n",
       "mths_since_last_major_derog    399448\n",
       "last_week_pay                   10614\n",
       "acc_now_delinq                     16\n",
       "tot_coll_amt                    42004\n",
       "tot_cur_bal                     42004\n",
       "total_rev_hi_lim                42004\n",
       "loan_status                         0\n",
       "dtype: int64"
      ]
     },
     "execution_count": 4,
     "metadata": {},
     "output_type": "execute_result"
    }
   ],
   "source": [
    "'''\n",
    "To check no.of values are null in each attr.\n",
    "'''\n",
    "dfTrain.isnull().sum()"
   ]
  },
  {
   "cell_type": "code",
   "execution_count": 5,
   "metadata": {},
   "outputs": [
    {
     "name": "stdout",
     "output_type": "stream",
     "text": [
      "Imputation with Median: term\n",
      "Imputation with Median: loan_amnt\n",
      "Imputation with Median: funded_amnt\n",
      "Imputation with Median: last_week_pay\n",
      "Imputation with Median: int_rate\n",
      "Imputation with Median: sub_grade\n",
      "Imputation with Median: annual_inc\n",
      "Imputation with Median: dti\n",
      "Imputation with Median: mths_since_last_delinq\n",
      "Imputation with Median: open_acc\n",
      "Imputation with Median: revol_bal\n",
      "Imputation with Median: revol_util\n",
      "Imputation with Median: total_acc\n",
      "Imputation with Median: total_rec_int\n",
      "Imputation with Median: mths_since_last_major_derog\n",
      "Imputation with Median: tot_coll_amt\n",
      "Imputation with Median: tot_cur_bal\n",
      "Imputation with Median: total_rev_hi_lim\n",
      "Imputation with Median: recoveries\n",
      "Imputation with Median: emp_length\n",
      "Imputation with Zero: total_rec_late_fee\n",
      "Imputation with Zero: recoveries\n",
      "Missing value imputation done.\n"
     ]
    }
   ],
   "source": [
    "'''\n",
    "Missing values imputation\n",
    "'''\n",
    "cols = ['term', 'loan_amnt', 'funded_amnt', 'last_week_pay', 'int_rate', 'sub_grade', 'annual_inc', 'dti', 'mths_since_last_delinq', 'open_acc', 'revol_bal', 'revol_util', 'total_acc', 'total_rec_int', 'mths_since_last_major_derog', 'tot_coll_amt', 'tot_cur_bal', 'total_rev_hi_lim','recoveries', 'emp_length']\n",
    "for col in cols:\n",
    "    print('Imputation with Median: %s' % (col))\n",
    "    dfTrain[col].fillna(dfTrain[col].median(), inplace=True)\n",
    "    dfTest[col].fillna(dfTest[col].median(), inplace=True)\n",
    "\n",
    "cols = ['total_rec_late_fee', 'recoveries']\n",
    "for col in cols:\n",
    "    print('Imputation with Zero: %s' % (col))\n",
    "    dfTrain[col].fillna(0, inplace=True)\n",
    "    dfTest[col].fillna(0, inplace=True)\n",
    "\n",
    "print('Missing value imputation done.')"
   ]
  },
  {
   "cell_type": "code",
   "execution_count": 6,
   "metadata": {},
   "outputs": [],
   "source": [
    "# Columns home_ownership and purpose columns attributes were earlier included and were considered categorical\n",
    "# But since the feature importance was low, they were removed. Keeping this section here for sake of completeness\n",
    "# of data preprocessing steps for reference, to dummify/categorize variables, update list of attributes cat_attr\n",
    "\n",
    "#cat_attr = ['home_ownership', 'purpose']\n",
    "#for cat in cat_attr:\n",
    "#    print('Categorizing: %s...' % (cat))\n",
    "#    df_col = [cat]\n",
    "#    dfTrain[cat] = dfTrain[cat].astype(\"category\")\n",
    "#    dfTrain[cat] = pd.get_dummies(dfTrain, columns=df_col)\n",
    "#    dfTest[cat] = dfTest[cat].astype(\"category\")\n",
    "#    dfTest[cat] = pd.get_dummies(dfTest, columns=df_col)"
   ]
  },
  {
   "cell_type": "code",
   "execution_count": 7,
   "metadata": {},
   "outputs": [
    {
     "name": "stderr",
     "output_type": "stream",
     "text": [
      "C:\\Users\\adity\\Anaconda3\\lib\\site-packages\\ipykernel_launcher.py:16: SettingWithCopyWarning: \n",
      "A value is trying to be set on a copy of a slice from a DataFrame.\n",
      "Try using .loc[row_indexer,col_indexer] = value instead\n",
      "\n",
      "See the caveats in the documentation: http://pandas.pydata.org/pandas-docs/stable/indexing.html#indexing-view-versus-copy\n",
      "  app.launch_new_instance()\n",
      "C:\\Users\\adity\\Anaconda3\\lib\\site-packages\\ipykernel_launcher.py:17: SettingWithCopyWarning: \n",
      "A value is trying to be set on a copy of a slice from a DataFrame.\n",
      "Try using .loc[row_indexer,col_indexer] = value instead\n",
      "\n",
      "See the caveats in the documentation: http://pandas.pydata.org/pandas-docs/stable/indexing.html#indexing-view-versus-copy\n",
      "C:\\Users\\adity\\Anaconda3\\lib\\site-packages\\ipykernel_launcher.py:21: SettingWithCopyWarning: \n",
      "A value is trying to be set on a copy of a slice from a DataFrame.\n",
      "Try using .loc[row_indexer,col_indexer] = value instead\n",
      "\n",
      "See the caveats in the documentation: http://pandas.pydata.org/pandas-docs/stable/indexing.html#indexing-view-versus-copy\n",
      "C:\\Users\\adity\\Anaconda3\\lib\\site-packages\\ipykernel_launcher.py:22: SettingWithCopyWarning: \n",
      "A value is trying to be set on a copy of a slice from a DataFrame.\n",
      "Try using .loc[row_indexer,col_indexer] = value instead\n",
      "\n",
      "See the caveats in the documentation: http://pandas.pydata.org/pandas-docs/stable/indexing.html#indexing-view-versus-copy\n",
      "C:\\Users\\adity\\Anaconda3\\lib\\site-packages\\ipykernel_launcher.py:26: SettingWithCopyWarning: \n",
      "A value is trying to be set on a copy of a slice from a DataFrame.\n",
      "Try using .loc[row_indexer,col_indexer] = value instead\n",
      "\n",
      "See the caveats in the documentation: http://pandas.pydata.org/pandas-docs/stable/indexing.html#indexing-view-versus-copy\n",
      "C:\\Users\\adity\\Anaconda3\\lib\\site-packages\\ipykernel_launcher.py:27: SettingWithCopyWarning: \n",
      "A value is trying to be set on a copy of a slice from a DataFrame.\n",
      "Try using .loc[row_indexer,col_indexer] = value instead\n",
      "\n",
      "See the caveats in the documentation: http://pandas.pydata.org/pandas-docs/stable/indexing.html#indexing-view-versus-copy\n",
      "C:\\Users\\adity\\Anaconda3\\lib\\site-packages\\ipykernel_launcher.py:31: SettingWithCopyWarning: \n",
      "A value is trying to be set on a copy of a slice from a DataFrame.\n",
      "Try using .loc[row_indexer,col_indexer] = value instead\n",
      "\n",
      "See the caveats in the documentation: http://pandas.pydata.org/pandas-docs/stable/indexing.html#indexing-view-versus-copy\n"
     ]
    },
    {
     "name": "stdout",
     "output_type": "stream",
     "text": [
      "Done with Feature Engineering......\n"
     ]
    },
    {
     "name": "stderr",
     "output_type": "stream",
     "text": [
      "C:\\Users\\adity\\Anaconda3\\lib\\site-packages\\ipykernel_launcher.py:32: SettingWithCopyWarning: \n",
      "A value is trying to be set on a copy of a slice from a DataFrame.\n",
      "Try using .loc[row_indexer,col_indexer] = value instead\n",
      "\n",
      "See the caveats in the documentation: http://pandas.pydata.org/pandas-docs/stable/indexing.html#indexing-view-versus-copy\n",
      "C:\\Users\\adity\\Anaconda3\\lib\\site-packages\\ipykernel_launcher.py:36: SettingWithCopyWarning: \n",
      "A value is trying to be set on a copy of a slice from a DataFrame.\n",
      "Try using .loc[row_indexer,col_indexer] = value instead\n",
      "\n",
      "See the caveats in the documentation: http://pandas.pydata.org/pandas-docs/stable/indexing.html#indexing-view-versus-copy\n",
      "C:\\Users\\adity\\Anaconda3\\lib\\site-packages\\ipykernel_launcher.py:37: SettingWithCopyWarning: \n",
      "A value is trying to be set on a copy of a slice from a DataFrame.\n",
      "Try using .loc[row_indexer,col_indexer] = value instead\n",
      "\n",
      "See the caveats in the documentation: http://pandas.pydata.org/pandas-docs/stable/indexing.html#indexing-view-versus-copy\n"
     ]
    }
   ],
   "source": [
    "'''\n",
    "Feature Engineering\n",
    "'''\n",
    "\n",
    "# Separating the member_id column of test dataframe to help create a csv after predictions\n",
    "test_member_id = pd.DataFrame(dfTest['member_id'])\n",
    "\n",
    "# It's good to create a copy of train and test dataframes. this way we can play around different features as we tune the\n",
    "# performance of the classifier with important features\n",
    "selected_cols = ['emp_length', 'loan_amnt', 'funded_amnt', 'funded_amnt_inv', 'sub_grade', 'int_rate', 'annual_inc', 'dti', 'mths_since_last_delinq','open_acc', 'revol_bal', 'revol_util', 'total_acc', 'total_rec_int','total_rec_late_fee', 'mths_since_last_major_derog', 'last_week_pay', 'tot_cur_bal', 'total_rev_hi_lim','recoveries','term','loan_status']\n",
    "selected_cols_test = ['member_id','emp_length', 'loan_amnt', 'funded_amnt', 'funded_amnt_inv', 'sub_grade', 'int_rate', 'annual_inc', 'dti', 'mths_since_last_delinq', 'open_acc', 'revol_bal', 'revol_util', 'total_acc', 'total_rec_int','total_rec_late_fee', 'mths_since_last_major_derog', 'last_week_pay', 'tot_cur_bal', 'total_rev_hi_lim','recoveries', 'term']\n",
    "finalTrain = dfTrain[selected_cols]\n",
    "finalTest = dfTest[selected_cols_test]\n",
    "\n",
    "# How big the loan a person has taken with respect to his earnings, annual income to loan amount ratio\n",
    "finalTrain['loan_to_income'] = finalTrain['annual_inc']/finalTrain['funded_amnt_inv']\n",
    "finalTest['loan_to_income'] = finalTest['annual_inc']/finalTest['funded_amnt_inv']\n",
    "\n",
    "\n",
    "# Total number of available/unused 'credit lines'\n",
    "finalTrain['avl_lines'] = finalTrain['total_acc'] - finalTrain['open_acc']\n",
    "finalTest['avl_lines'] = finalTest['total_acc'] - finalTest['open_acc']\n",
    "\n",
    "\n",
    "# Interest paid so far\n",
    "finalTrain['int_paid'] = finalTrain['total_rec_int'] + finalTrain['total_rec_late_fee']\n",
    "finalTest['int_paid'] = finalTest['total_rec_int'] + finalTest['total_rec_late_fee']\n",
    "\n",
    "\n",
    "# Calculating EMIs paid (in terms of percent)\n",
    "finalTrain['emi_paid_progress_perc'] = ((finalTrain['last_week_pay']/(finalTrain['term']/12*52+1))*100)\n",
    "finalTest['emi_paid_progress_perc'] = ((finalTest['last_week_pay']/(finalTest['term']/12*52+1))*100)\n",
    "\n",
    "\n",
    "# Calculating total repayments received so far, in terms of EMI or recoveries after charge off\n",
    "finalTrain['total_repayment_progress'] = ((finalTrain['last_week_pay']/(finalTrain['term']/12*52+1))*100) + ((finalTrain['recoveries']/finalTrain['funded_amnt_inv']) * 100)\n",
    "finalTest['total_repayment_progress'] = ((finalTest['last_week_pay']/(finalTest['term']/12*52+1))*100) + ((finalTest['recoveries']/finalTest['funded_amnt_inv']) * 100)\n",
    "print('Done with Feature Engineering......')"
   ]
  },
  {
   "cell_type": "code",
   "execution_count": 8,
   "metadata": {},
   "outputs": [
    {
     "data": {
      "text/plain": [
       "emp_length                       0\n",
       "loan_amnt                        0\n",
       "funded_amnt                      0\n",
       "funded_amnt_inv                  0\n",
       "sub_grade                        0\n",
       "int_rate                         0\n",
       "annual_inc                       0\n",
       "dti                              0\n",
       "mths_since_last_delinq           0\n",
       "open_acc                         0\n",
       "revol_bal                        0\n",
       "revol_util                       0\n",
       "total_acc                        0\n",
       "total_rec_int                    0\n",
       "total_rec_late_fee               0\n",
       "mths_since_last_major_derog      0\n",
       "last_week_pay                    0\n",
       "tot_cur_bal                      0\n",
       "total_rev_hi_lim                 0\n",
       "recoveries                       0\n",
       "term                             0\n",
       "loan_status                      0\n",
       "loan_to_income                   0\n",
       "avl_lines                        0\n",
       "int_paid                         0\n",
       "emi_paid_progress_perc           0\n",
       "total_repayment_progress       113\n",
       "dtype: int64"
      ]
     },
     "execution_count": 8,
     "metadata": {},
     "output_type": "execute_result"
    }
   ],
   "source": [
    "finalTrain.isnull().sum()"
   ]
  },
  {
   "cell_type": "code",
   "execution_count": 9,
   "metadata": {},
   "outputs": [
    {
     "data": {
      "text/plain": [
       "member_id                       0\n",
       "emp_length                      0\n",
       "loan_amnt                       0\n",
       "funded_amnt                     0\n",
       "funded_amnt_inv                 0\n",
       "sub_grade                       0\n",
       "int_rate                        0\n",
       "annual_inc                      0\n",
       "dti                             0\n",
       "mths_since_last_delinq          0\n",
       "open_acc                        0\n",
       "revol_bal                       0\n",
       "revol_util                      0\n",
       "total_acc                       0\n",
       "total_rec_int                   0\n",
       "total_rec_late_fee              0\n",
       "mths_since_last_major_derog     0\n",
       "last_week_pay                   0\n",
       "tot_cur_bal                     0\n",
       "total_rev_hi_lim                0\n",
       "recoveries                      0\n",
       "term                            0\n",
       "loan_to_income                  0\n",
       "avl_lines                       0\n",
       "int_paid                        0\n",
       "emi_paid_progress_perc          0\n",
       "total_repayment_progress       84\n",
       "dtype: int64"
      ]
     },
     "execution_count": 9,
     "metadata": {},
     "output_type": "execute_result"
    }
   ],
   "source": [
    "finalTest.isnull().sum()"
   ]
  },
  {
   "cell_type": "code",
   "execution_count": 10,
   "metadata": {},
   "outputs": [],
   "source": [
    "finalTrain=finalTrain.replace([np.inf,], np.nan)\n",
    "finalTest=finalTest.replace([np.inf,], np.nan)"
   ]
  },
  {
   "cell_type": "code",
   "execution_count": 11,
   "metadata": {},
   "outputs": [
    {
     "data": {
      "text/plain": [
       "emp_length                       0\n",
       "loan_amnt                        0\n",
       "funded_amnt                      0\n",
       "funded_amnt_inv                  0\n",
       "sub_grade                        0\n",
       "int_rate                         0\n",
       "annual_inc                       0\n",
       "dti                              0\n",
       "mths_since_last_delinq           0\n",
       "open_acc                         0\n",
       "revol_bal                        0\n",
       "revol_util                       0\n",
       "total_acc                        0\n",
       "total_rec_int                    0\n",
       "total_rec_late_fee               0\n",
       "mths_since_last_major_derog      0\n",
       "last_week_pay                    0\n",
       "tot_cur_bal                      0\n",
       "total_rev_hi_lim                 0\n",
       "recoveries                       0\n",
       "term                             0\n",
       "loan_status                      0\n",
       "loan_to_income                 139\n",
       "avl_lines                        0\n",
       "int_paid                         0\n",
       "emi_paid_progress_perc           0\n",
       "total_repayment_progress       139\n",
       "dtype: int64"
      ]
     },
     "execution_count": 11,
     "metadata": {},
     "output_type": "execute_result"
    }
   ],
   "source": [
    "finalTrain.isnull().sum()"
   ]
  },
  {
   "cell_type": "code",
   "execution_count": 12,
   "metadata": {},
   "outputs": [
    {
     "data": {
      "text/plain": [
       "member_id                       0\n",
       "emp_length                      0\n",
       "loan_amnt                       0\n",
       "funded_amnt                     0\n",
       "funded_amnt_inv                 0\n",
       "sub_grade                       0\n",
       "int_rate                        0\n",
       "annual_inc                      0\n",
       "dti                             0\n",
       "mths_since_last_delinq          0\n",
       "open_acc                        0\n",
       "revol_bal                       0\n",
       "revol_util                      0\n",
       "total_acc                       0\n",
       "total_rec_int                   0\n",
       "total_rec_late_fee              0\n",
       "mths_since_last_major_derog     0\n",
       "last_week_pay                   0\n",
       "tot_cur_bal                     0\n",
       "total_rev_hi_lim                0\n",
       "recoveries                      0\n",
       "term                            0\n",
       "loan_to_income                 94\n",
       "avl_lines                       0\n",
       "int_paid                        0\n",
       "emi_paid_progress_perc          0\n",
       "total_repayment_progress       94\n",
       "dtype: int64"
      ]
     },
     "execution_count": 12,
     "metadata": {},
     "output_type": "execute_result"
    }
   ],
   "source": [
    "finalTest.isna().sum()"
   ]
  },
  {
   "cell_type": "code",
   "execution_count": 13,
   "metadata": {},
   "outputs": [],
   "source": [
    "finalTrain = finalTrain[np.isfinite(finalTrain).all(1)]"
   ]
  },
  {
   "cell_type": "code",
   "execution_count": 14,
   "metadata": {},
   "outputs": [],
   "source": [
    "finalTest=finalTest.fillna(0)"
   ]
  },
  {
   "cell_type": "code",
   "execution_count": 15,
   "metadata": {},
   "outputs": [],
   "source": [
    "# Separating the loan_status column of train dataframe to check accuracy\n",
    "final_target=finalTrain['loan_status']\n",
    "finalTrain=finalTrain.drop(['loan_status'],axis=1)"
   ]
  },
  {
   "cell_type": "code",
   "execution_count": 16,
   "metadata": {},
   "outputs": [
    {
     "data": {
      "text/plain": [
       "(532289, 26)"
      ]
     },
     "execution_count": 16,
     "metadata": {},
     "output_type": "execute_result"
    }
   ],
   "source": [
    "finalTrain.shape"
   ]
  },
  {
   "cell_type": "code",
   "execution_count": 17,
   "metadata": {},
   "outputs": [
    {
     "data": {
      "text/plain": [
       "(354951, 27)"
      ]
     },
     "execution_count": 17,
     "metadata": {},
     "output_type": "execute_result"
    }
   ],
   "source": [
    "finalTest.shape"
   ]
  },
  {
   "cell_type": "code",
   "execution_count": 18,
   "metadata": {},
   "outputs": [],
   "source": [
    "#this file(cleaned test.csv) will use in app\n",
    "finalTest.to_csv((('%s.csv') % ('finalTest_csv_26')), index=False)"
   ]
  },
  {
   "cell_type": "code",
   "execution_count": 19,
   "metadata": {},
   "outputs": [],
   "source": [
    "del finalTest['member_id']"
   ]
  },
  {
   "cell_type": "code",
   "execution_count": 20,
   "metadata": {},
   "outputs": [],
   "source": [
    "X= finalTrain\n",
    "y=final_target"
   ]
  },
  {
   "cell_type": "code",
   "execution_count": 21,
   "metadata": {},
   "outputs": [],
   "source": [
    "from sklearn.metrics import confusion_matrix"
   ]
  },
  {
   "cell_type": "code",
   "execution_count": 22,
   "metadata": {},
   "outputs": [],
   "source": [
    "X_train, X_test, y_train, y_test = train_test_split(X, y, test_size=0.3)\n",
    "\n",
    "from sklearn.ensemble import RandomForestClassifier"
   ]
  },
  {
   "cell_type": "code",
   "execution_count": 23,
   "metadata": {},
   "outputs": [],
   "source": [
    "#Create a Gaussian Classifier\n",
    "clf=RandomForestClassifier(n_estimators=100)"
   ]
  },
  {
   "cell_type": "code",
   "execution_count": 24,
   "metadata": {},
   "outputs": [
    {
     "data": {
      "text/plain": [
       "RandomForestClassifier(bootstrap=True, class_weight=None, criterion='gini',\n",
       "            max_depth=None, max_features='auto', max_leaf_nodes=None,\n",
       "            min_impurity_decrease=0.0, min_impurity_split=None,\n",
       "            min_samples_leaf=1, min_samples_split=2,\n",
       "            min_weight_fraction_leaf=0.0, n_estimators=100, n_jobs=None,\n",
       "            oob_score=False, random_state=None, verbose=0,\n",
       "            warm_start=False)"
      ]
     },
     "execution_count": 24,
     "metadata": {},
     "output_type": "execute_result"
    }
   ],
   "source": [
    "#Train the model using the training sets y_pred=clf.predict(X_test)\n",
    "clf.fit(X_train,y_train)"
   ]
  },
  {
   "cell_type": "code",
   "execution_count": 25,
   "metadata": {},
   "outputs": [],
   "source": [
    "y_pred=clf.predict(X_test)"
   ]
  },
  {
   "cell_type": "code",
   "execution_count": 26,
   "metadata": {},
   "outputs": [
    {
     "name": "stdout",
     "output_type": "stream",
     "text": [
      "Accuracy: 86.64449829979898\n"
     ]
    }
   ],
   "source": [
    "#Import scikit-learn metrics module for accuracy calculation\n",
    "from sklearn import metrics\n",
    "# Model Accuracy, how often is the classifier correct?\n",
    "print(\"Accuracy:\",(metrics.accuracy_score(y_test, y_pred)*100))"
   ]
  },
  {
   "cell_type": "code",
   "execution_count": 27,
   "metadata": {},
   "outputs": [],
   "source": [
    "final_pred = pd.DataFrame(columns=['loan_d_pred'])"
   ]
  },
  {
   "cell_type": "code",
   "execution_count": 28,
   "metadata": {},
   "outputs": [],
   "source": [
    "final_pred['loan_d_pred']=clf.predict(finalTest)"
   ]
  },
  {
   "cell_type": "code",
   "execution_count": 29,
   "metadata": {},
   "outputs": [
    {
     "data": {
      "text/plain": [
       "(354951, 1)"
      ]
     },
     "execution_count": 29,
     "metadata": {},
     "output_type": "execute_result"
    }
   ],
   "source": [
    "final_pred.shape"
   ]
  },
  {
   "cell_type": "code",
   "execution_count": 30,
   "metadata": {},
   "outputs": [
    {
     "data": {
      "text/html": [
       "<div>\n",
       "<style scoped>\n",
       "    .dataframe tbody tr th:only-of-type {\n",
       "        vertical-align: middle;\n",
       "    }\n",
       "\n",
       "    .dataframe tbody tr th {\n",
       "        vertical-align: top;\n",
       "    }\n",
       "\n",
       "    .dataframe thead th {\n",
       "        text-align: right;\n",
       "    }\n",
       "</style>\n",
       "<table border=\"1\" class=\"dataframe\">\n",
       "  <thead>\n",
       "    <tr style=\"text-align: right;\">\n",
       "      <th></th>\n",
       "      <th>Member_ID</th>\n",
       "      <th>Loan_Status</th>\n",
       "    </tr>\n",
       "  </thead>\n",
       "  <tbody>\n",
       "    <tr>\n",
       "      <th>0</th>\n",
       "      <td>11937648</td>\n",
       "      <td>0</td>\n",
       "    </tr>\n",
       "    <tr>\n",
       "      <th>1</th>\n",
       "      <td>38983318</td>\n",
       "      <td>0</td>\n",
       "    </tr>\n",
       "    <tr>\n",
       "      <th>2</th>\n",
       "      <td>27999917</td>\n",
       "      <td>0</td>\n",
       "    </tr>\n",
       "    <tr>\n",
       "      <th>3</th>\n",
       "      <td>61514932</td>\n",
       "      <td>0</td>\n",
       "    </tr>\n",
       "    <tr>\n",
       "      <th>4</th>\n",
       "      <td>59622821</td>\n",
       "      <td>0</td>\n",
       "    </tr>\n",
       "    <tr>\n",
       "      <th>5</th>\n",
       "      <td>28822038</td>\n",
       "      <td>0</td>\n",
       "    </tr>\n",
       "    <tr>\n",
       "      <th>6</th>\n",
       "      <td>10718089</td>\n",
       "      <td>0</td>\n",
       "    </tr>\n",
       "    <tr>\n",
       "      <th>7</th>\n",
       "      <td>58114582</td>\n",
       "      <td>0</td>\n",
       "    </tr>\n",
       "    <tr>\n",
       "      <th>8</th>\n",
       "      <td>35023176</td>\n",
       "      <td>0</td>\n",
       "    </tr>\n",
       "    <tr>\n",
       "      <th>9</th>\n",
       "      <td>1268247</td>\n",
       "      <td>1</td>\n",
       "    </tr>\n",
       "  </tbody>\n",
       "</table>\n",
       "</div>"
      ],
      "text/plain": [
       "   Member_ID  Loan_Status\n",
       "0   11937648            0\n",
       "1   38983318            0\n",
       "2   27999917            0\n",
       "3   61514932            0\n",
       "4   59622821            0\n",
       "5   28822038            0\n",
       "6   10718089            0\n",
       "7   58114582            0\n",
       "8   35023176            0\n",
       "9    1268247            1"
      ]
     },
     "execution_count": 30,
     "metadata": {},
     "output_type": "execute_result"
    }
   ],
   "source": [
    "#To create submission file\n",
    "submission_file = pd.DataFrame({ 'Member_ID': dfTest['member_id'], 'Loan_Status': final_pred['loan_d_pred'] })\n",
    "submission_file.to_csv((('%s.csv') % ('submission_26')), index=False)\n",
    "\n",
    "\n",
    "submission_file.head(10)\n"
   ]
  },
  {
   "cell_type": "code",
   "execution_count": 31,
   "metadata": {},
   "outputs": [
    {
     "name": "stdout",
     "output_type": "stream",
     "text": [
      "[0.01850559 0.02289083 0.02329262 0.0262017  0.05964517 0.07761923\n",
      " 0.03215928 0.04577845 0.02231683 0.02474545 0.03984738 0.03903402\n",
      " 0.02816054 0.04206046 0.00190407 0.01446705 0.06171264 0.07439965\n",
      " 0.07330899 0.01942364 0.01001284 0.03747348 0.02887706 0.04110444\n",
      " 0.06448273 0.07057585]\n",
      "0 emp_length\n",
      "1 loan_amnt\n",
      "2 funded_amnt\n",
      "3 funded_amnt_inv\n",
      "4 sub_grade\n",
      "5 int_rate\n",
      "6 annual_inc\n",
      "7 dti\n",
      "8 mths_since_last_delinq\n",
      "9 open_acc\n",
      "10 revol_bal\n",
      "11 revol_util\n",
      "12 total_acc\n",
      "13 total_rec_int\n",
      "14 total_rec_late_fee\n",
      "15 mths_since_last_major_derog\n",
      "16 last_week_pay\n",
      "17 tot_cur_bal\n",
      "18 total_rev_hi_lim\n",
      "19 recoveries\n",
      "20 term\n",
      "21 loan_to_income\n",
      "22 avl_lines\n",
      "23 int_paid\n",
      "24 emi_paid_progress_perc\n",
      "25 total_repayment_progress\n"
     ]
    },
    {
     "data": {
      "text/plain": [
       "<Figure size 640x480 with 1 Axes>"
      ]
     },
     "metadata": {},
     "output_type": "display_data"
    }
   ],
   "source": [
    "import matplotlib.pyplot as plt\n",
    "print(clf.feature_importances_)\n",
    "idx = 0\n",
    "for x in list(finalTrain):\n",
    "    print('%d %s' % (idx, x))\n",
    "    idx = idx + 1\n",
    "plt.title('Important Features')\n",
    "plt.xlabel('features')\n",
    "plt.ylabel('importance')\n",
    "plt.bar(range(len(clf.feature_importances_)), clf.feature_importances_)\n",
    "plt.savefig('imp_f.png')\n",
    "plt.show()"
   ]
  },
  {
   "cell_type": "code",
   "execution_count": 32,
   "metadata": {},
   "outputs": [
    {
     "data": {
      "text/plain": [
       "['RF_BLDP_26.pkl']"
      ]
     },
     "execution_count": 32,
     "metadata": {},
     "output_type": "execute_result"
    }
   ],
   "source": [
    "from sklearn.externals import joblib\n",
    "joblib.dump(clf,'RF_BLDP_26.pkl')"
   ]
  },
  {
   "cell_type": "code",
   "execution_count": 36,
   "metadata": {},
   "outputs": [],
   "source": [
    "s=final_pred\n",
    "s=s.replace(0, 'No')\n",
    "s=s.replace(1,'YES')"
   ]
  },
  {
   "cell_type": "code",
   "execution_count": 39,
   "metadata": {},
   "outputs": [
    {
     "data": {
      "image/png": "[encoded data removed]",
      "text/plain": [
       "<Figure size 720x360 with 1 Axes>"
      ]
     },
     "metadata": {
      "needs_background": "light"
     },
     "output_type": "display_data"
    }
   ],
   "source": [
    "plt.figure(1)\n",
    "s['loan_d_pred'].value_counts(normalize=True).plot.bar(figsize=(10,5), title= 'Predicted result')\n",
    "plt.savefig('./static/prediction_bar1.png')"
   ]
  },
  {
   "cell_type": "code",
   "execution_count": null,
   "metadata": {},
   "outputs": [],
   "source": []
  }
 ],
 "metadata": {
  "kernelspec": {
   "display_name": "Python 3",
   "language": "python",
   "name": "python3"
  },
  "language_info": {
   "codemirror_mode": {
    "name": "ipython",
    "version": 3
   },
   "file_extension": ".py",
   "mimetype": "text/x-python",
   "name": "python",
   "nbconvert_exporter": "python",
   "pygments_lexer": "ipython3",
   "version": "3.7.0"
  }
 },
 "nbformat": 4,
 "nbformat_minor": 2
}
