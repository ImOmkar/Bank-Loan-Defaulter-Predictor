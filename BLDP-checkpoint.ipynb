{
 "cells": [
  {
   "cell_type": "code",
   "execution_count": 1,
   "metadata": {},
   "outputs": [
    {
     "name": "stdout",
     "output_type": "stream",
     "text": [
      "Importing packages...\n"
     ]
    }
   ],
   "source": [
    "print('Importing packages...')\n",
    "from datetime import datetime\n",
    "import numpy as np\n",
    "import pandas as pd\n",
    "import xgboost\n",
    "from sklearn.metrics import accuracy_score\n",
    "from sklearn.metrics import auc\n",
    "from sklearn.metrics import roc_auc_score\n",
    "from sklearn.model_selection import train_test_split"
   ]
  },
  {
   "cell_type": "code",
   "execution_count": 2,
   "metadata": {},
   "outputs": [
    {
     "name": "stdout",
     "output_type": "stream",
     "text": [
      "Reading data...\n"
     ]
    }
   ],
   "source": [
    "print('Reading data...')\n",
    "dfTrain = pd.read_csv(r'C:\\Users\\adity\\Downloads\\ML\\train.csv')\n",
    "dfTest = pd.read_csv(r'C:\\Users\\adity\\Downloads\\ML\\test.csv')\n"
   ]
  },
  {
   "cell_type": "code",
   "execution_count": 3,
   "metadata": {},
   "outputs": [
    {
     "data": {
      "text/plain": [
       "Index(['member_id', 'loan_amnt', 'funded_amnt', 'funded_amnt_inv', 'term',\n",
       "       'batch_enrolled', 'int_rate', 'grade', 'sub_grade', 'emp_title',\n",
       "       'emp_length', 'home_ownership', 'annual_inc', 'verification_status',\n",
       "       'pymnt_plan', 'desc', 'purpose', 'title', 'zip_code', 'addr_state',\n",
       "       'dti', 'delinq_2yrs', 'inq_last_6mths', 'mths_since_last_delinq',\n",
       "       'mths_since_last_record', 'open_acc', 'pub_rec', 'revol_bal',\n",
       "       'revol_util', 'total_acc', 'initial_list_status', 'total_rec_int',\n",
       "       'total_rec_late_fee', 'recoveries', 'collection_recovery_fee',\n",
       "       'collections_12_mths_ex_med', 'mths_since_last_major_derog',\n",
       "       'application_type', 'verification_status_joint', 'last_week_pay',\n",
       "       'acc_now_delinq', 'tot_coll_amt', 'tot_cur_bal', 'total_rev_hi_lim',\n",
       "       'loan_status'],\n",
       "      dtype='object')"
      ]
     },
     "execution_count": 3,
     "metadata": {},
     "output_type": "execute_result"
    }
   ],
   "source": [
    "dfTrain.columns"
   ]
  },
  {
   "cell_type": "code",
   "execution_count": null,
   "metadata": {},
   "outputs": [],
   "source": [
    "dfTest.columns"
   ]
  },
  {
   "cell_type": "code",
   "execution_count": null,
   "metadata": {},
   "outputs": [],
   "source": [
    "# All Available Columns: 'member_id', 'loan_amnt', 'funded_amnt', 'addr_state', 'sub_grade', 'term', 'batch_enrolled', 'desc', 'grade', 'emp_length', 'int_rate', 'pymnt_plan', 'initial_list_status', 'home_ownership', 'annual_inc', 'verification_status', 'purpose', 'dti', 'delinq_2yrs', 'inq_last_6mths', 'mths_since_last_delinq', 'mths_since_last_record', 'open_acc', 'pub_rec', 'revol_bal', 'revol_util', 'total_acc', 'application_type', 'verification_status_joint', 'total_rec_int', 'total_rec_late_fee', 'recoveries', 'collection_recovery_fee', 'collections_12_mths_ex_med', 'mths_since_last_major_derog', 'last_week_pay', 'acc_now_delinq', 'tot_coll_amt', 'tot_cur_bal', 'total_rev_hi_lim', 'loan_status\n",
    "dfTrain = dfTrain[['member_id', 'loan_amnt', 'funded_amnt', 'addr_state', 'funded_amnt_inv', 'sub_grade', 'term', 'emp_length', 'int_rate', 'annual_inc', 'dti', 'delinq_2yrs', 'inq_last_6mths', 'mths_since_last_delinq', 'mths_since_last_record', 'open_acc', 'pub_rec', 'revol_bal', 'revol_util', 'total_acc', 'total_rec_int', 'total_rec_late_fee', 'recoveries', 'collection_recovery_fee', 'collections_12_mths_ex_med', 'mths_since_last_major_derog', 'last_week_pay', 'acc_now_delinq', 'tot_coll_amt', 'tot_cur_bal', 'total_rev_hi_lim', 'loan_status']]\n",
    "dfTest = dfTest[['member_id', 'loan_amnt', 'funded_amnt', 'addr_state', 'funded_amnt_inv', 'sub_grade', 'term', 'emp_length', 'int_rate', 'annual_inc', 'dti', 'delinq_2yrs', 'inq_last_6mths', 'mths_since_last_delinq', 'mths_since_last_record', 'open_acc', 'pub_rec', 'revol_bal', 'revol_util', 'total_acc', 'total_rec_int', 'total_rec_late_fee', 'recoveries', 'collection_recovery_fee', 'collections_12_mths_ex_med', 'mths_since_last_major_derog', 'last_week_pay', 'acc_now_delinq', 'tot_coll_amt', 'tot_cur_bal', 'total_rev_hi_lim']]"
   ]
  },
  {
   "cell_type": "code",
   "execution_count": 3,
   "metadata": {},
   "outputs": [
    {
     "name": "stdout",
     "output_type": "stream",
     "text": [
      "Transform: term...\n",
      "Transform: emp_length...\n",
      "Transform: last_week_pay...\n",
      "Transform: sub_grade...\n",
      "Transform done.\n"
     ]
    }
   ],
   "source": [
    "'''\n",
    "Data transformation/cleanup\n",
    "Strip off textual parts, represent values as numeric values\n",
    "it makes sense. Convert the datatype to numeric.\n",
    "'''\n",
    "print('Transform: term...')\n",
    "dfTrain['term'].replace(to_replace=' months', value='', regex=True, inplace=True)\n",
    "dfTest['term'].replace(to_replace=' months', value='', regex=True, inplace=True)\n",
    "dfTrain['term'] = pd.to_numeric(dfTrain['term'], errors='coerce')\n",
    "dfTest['term'] = pd.to_numeric(dfTest['term'], errors='coerce')\n",
    "\n",
    "print('Transform: emp_length...')\n",
    "dfTrain['emp_length'].replace('n/a', '0', inplace=True)\n",
    "dfTrain['emp_length'].replace(to_replace='\\+ years', value='', regex=True, inplace=True)\n",
    "dfTrain['emp_length'].replace(to_replace=' years', value='', regex=True, inplace=True)\n",
    "dfTrain['emp_length'].replace(to_replace='< 1 year', value='0', regex=True, inplace=True)\n",
    "dfTrain['emp_length'].replace(to_replace=' year', value='', regex=True, inplace=True)\n",
    "dfTest['emp_length'].replace('n/a', '0', inplace=True)\n",
    "dfTest['emp_length'].replace(to_replace='\\+ years', value='', regex=True, inplace=True)\n",
    "dfTest['emp_length'].replace(to_replace=' years', value='', regex=True, inplace=True)\n",
    "dfTest['emp_length'].replace(to_replace='< 1 year', value='0', regex=True, inplace=True)\n",
    "dfTest['emp_length'].replace(to_replace=' year', value='', regex=True, inplace=True)\n",
    "dfTrain['emp_length'] = pd.to_numeric(dfTrain['emp_length'], errors='coerce')\n",
    "dfTest['emp_length'] = pd.to_numeric(dfTest['emp_length'], errors='coerce')\n",
    "\n",
    "print('Transform: last_week_pay...')\n",
    "dfTrain['last_week_pay'].replace(to_replace='th week', value='', regex=True, inplace=True)\n",
    "dfTest['last_week_pay'].replace(to_replace='th week', value='', regex=True, inplace=True)\n",
    "dfTrain['last_week_pay'].replace(to_replace='NA', value='', regex=True, inplace=True)\n",
    "dfTest['last_week_pay'].replace(to_replace='NA', value='', regex=True, inplace=True)\n",
    "dfTrain['last_week_pay'] = pd.to_numeric(dfTrain['last_week_pay'], errors='coerce')\n",
    "dfTest['last_week_pay'] = pd.to_numeric(dfTest['last_week_pay'], errors='coerce')\n",
    "\n",
    "print('Transform: sub_grade...')\n",
    "dfTrain['sub_grade'].replace(to_replace='A', value='0', regex=True, inplace=True)\n",
    "dfTrain['sub_grade'].replace(to_replace='B', value='1', regex=True, inplace=True)\n",
    "dfTrain['sub_grade'].replace(to_replace='C', value='2', regex=True, inplace=True)\n",
    "dfTrain['sub_grade'].replace(to_replace='D', value='3', regex=True, inplace=True)\n",
    "dfTrain['sub_grade'].replace(to_replace='E', value='4', regex=True, inplace=True)\n",
    "dfTrain['sub_grade'].replace(to_replace='F', value='5', regex=True, inplace=True)\n",
    "dfTrain['sub_grade'].replace(to_replace='G', value='6', regex=True, inplace=True)\n",
    "dfTest['sub_grade'].replace(to_replace='A', value='0', regex=True, inplace=True)\n",
    "dfTest['sub_grade'].replace(to_replace='B', value='1', regex=True, inplace=True)\n",
    "dfTest['sub_grade'].replace(to_replace='C', value='2', regex=True, inplace=True)\n",
    "dfTest['sub_grade'].replace(to_replace='D', value='3', regex=True, inplace=True)\n",
    "dfTest['sub_grade'].replace(to_replace='E', value='4', regex=True, inplace=True)\n",
    "dfTest['sub_grade'].replace(to_replace='F', value='5', regex=True, inplace=True)\n",
    "dfTest['sub_grade'].replace(to_replace='G', value='6', regex=True, inplace=True)\n",
    "dfTrain['sub_grade'] = pd.to_numeric(dfTrain['sub_grade'], errors='coerce')\n",
    "dfTest['sub_grade'] = pd.to_numeric(dfTest['sub_grade'], errors='coerce')\n",
    "\n",
    "print('Transform done.')"
   ]
  },
  {
   "cell_type": "code",
   "execution_count": 4,
   "metadata": {},
   "outputs": [
    {
     "data": {
      "text/plain": [
       "member_id                           0\n",
       "loan_amnt                           0\n",
       "funded_amnt                         0\n",
       "addr_state                          0\n",
       "funded_amnt_inv                     0\n",
       "sub_grade                           0\n",
       "term                                0\n",
       "emp_length                      26891\n",
       "int_rate                            0\n",
       "annual_inc                          3\n",
       "dti                                 0\n",
       "delinq_2yrs                        16\n",
       "inq_last_6mths                     16\n",
       "mths_since_last_delinq         272554\n",
       "mths_since_last_record         450305\n",
       "open_acc                           16\n",
       "pub_rec                            16\n",
       "revol_bal                           0\n",
       "revol_util                        287\n",
       "total_acc                          16\n",
       "total_rec_int                       0\n",
       "total_rec_late_fee                  0\n",
       "recoveries                          0\n",
       "collection_recovery_fee             0\n",
       "collections_12_mths_ex_med         95\n",
       "mths_since_last_major_derog    399448\n",
       "last_week_pay                   10614\n",
       "acc_now_delinq                     16\n",
       "tot_coll_amt                    42004\n",
       "tot_cur_bal                     42004\n",
       "total_rev_hi_lim                42004\n",
       "loan_status                         0\n",
       "dtype: int64"
      ]
     },
     "execution_count": 4,
     "metadata": {},
     "output_type": "execute_result"
    }
   ],
   "source": [
    "'''\n",
    "To check no.of values are null in each attr.\n",
    "'''\n",
    "dfTrain.isnull().sum()"
   ]
  },
  {
   "cell_type": "code",
   "execution_count": 5,
   "metadata": {},
   "outputs": [
    {
     "name": "stdout",
     "output_type": "stream",
     "text": [
      "Imputation with Median: term\n",
      "Imputation with Median: loan_amnt\n",
      "Imputation with Median: funded_amnt\n",
      "Imputation with Median: last_week_pay\n",
      "Imputation with Median: int_rate\n",
      "Imputation with Median: sub_grade\n",
      "Imputation with Median: annual_inc\n",
      "Imputation with Median: dti\n",
      "Imputation with Median: mths_since_last_delinq\n",
      "Imputation with Median: mths_since_last_record\n",
      "Imputation with Median: open_acc\n",
      "Imputation with Median: revol_bal\n",
      "Imputation with Median: revol_util\n",
      "Imputation with Median: total_acc\n",
      "Imputation with Median: total_rec_int\n",
      "Imputation with Median: mths_since_last_major_derog\n",
      "Imputation with Median: tot_coll_amt\n",
      "Imputation with Median: tot_cur_bal\n",
      "Imputation with Median: total_rev_hi_lim\n",
      "Imputation with Median: emp_length\n",
      "Imputation with Zero: acc_now_delinq\n",
      "Imputation with Zero: total_rec_late_fee\n",
      "Imputation with Zero: recoveries\n",
      "Imputation with Zero: collection_recovery_fee\n",
      "Imputation with Zero: collections_12_mths_ex_med\n",
      "Missing value imputation done.\n"
     ]
    }
   ],
   "source": [
    "'''\n",
    "Missing values imputation\n",
    "'''\n",
    "cols = ['term', 'loan_amnt', 'funded_amnt', 'last_week_pay', 'int_rate', 'sub_grade', 'annual_inc', 'dti', 'mths_since_last_delinq', 'mths_since_last_record', 'open_acc', 'revol_bal', 'revol_util', 'total_acc', 'total_rec_int', 'mths_since_last_major_derog', 'tot_coll_amt', 'tot_cur_bal', 'total_rev_hi_lim', 'emp_length']\n",
    "for col in cols:\n",
    "    print('Imputation with Median: %s' % (col))\n",
    "    dfTrain[col].fillna(dfTrain[col].median(), inplace=True)\n",
    "    dfTest[col].fillna(dfTest[col].median(), inplace=True)\n",
    "\n",
    "cols = ['acc_now_delinq', 'total_rec_late_fee', 'recoveries', 'collection_recovery_fee', 'collections_12_mths_ex_med']\n",
    "for col in cols:\n",
    "    print('Imputation with Zero: %s' % (col))\n",
    "    dfTrain[col].fillna(0, inplace=True)\n",
    "    dfTest[col].fillna(0, inplace=True)\n",
    "\n",
    "print('Missing value imputation done.')"
   ]
  },
  {
   "cell_type": "code",
   "execution_count": 6,
   "metadata": {},
   "outputs": [],
   "source": [
    "# Columns home_ownership and purpose columns attributes were earlier included and were considered categorical\n",
    "# But since the feature importance was low, they were removed. Keeping this section here for sake of completeness\n",
    "# of data preprocessing steps for reference, to dummify/categorize variables, update list of attributes cat_attr\n",
    "\n",
    "#cat_attr = ['home_ownership', 'purpose']\n",
    "#for cat in cat_attr:\n",
    "#    print('Categorizing: %s...' % (cat))\n",
    "#    df_col = [cat]\n",
    "#    dfTrain[cat] = dfTrain[cat].astype(\"category\")\n",
    "#    dfTrain[cat] = pd.get_dummies(dfTrain, columns=df_col)\n",
    "#    dfTest[cat] = dfTest[cat].astype(\"category\")\n",
    "#    dfTest[cat] = pd.get_dummies(dfTest, columns=df_col)"
   ]
  },
  {
   "cell_type": "code",
   "execution_count": 7,
   "metadata": {},
   "outputs": [
    {
     "name": "stderr",
     "output_type": "stream",
     "text": [
      "C:\\Users\\adity\\Anaconda3\\lib\\site-packages\\ipykernel_launcher.py:21: SettingWithCopyWarning: \n",
      "A value is trying to be set on a copy of a slice from a DataFrame.\n",
      "Try using .loc[row_indexer,col_indexer] = value instead\n",
      "\n",
      "See the caveats in the documentation: http://pandas.pydata.org/pandas-docs/stable/indexing.html#indexing-view-versus-copy\n",
      "C:\\Users\\adity\\Anaconda3\\lib\\site-packages\\ipykernel_launcher.py:22: SettingWithCopyWarning: \n",
      "A value is trying to be set on a copy of a slice from a DataFrame.\n",
      "Try using .loc[row_indexer,col_indexer] = value instead\n",
      "\n",
      "See the caveats in the documentation: http://pandas.pydata.org/pandas-docs/stable/indexing.html#indexing-view-versus-copy\n",
      "C:\\Users\\adity\\Anaconda3\\lib\\site-packages\\ipykernel_launcher.py:28: SettingWithCopyWarning: \n",
      "A value is trying to be set on a copy of a slice from a DataFrame.\n",
      "Try using .loc[row_indexer,col_indexer] = value instead\n",
      "\n",
      "See the caveats in the documentation: http://pandas.pydata.org/pandas-docs/stable/indexing.html#indexing-view-versus-copy\n",
      "C:\\Users\\adity\\Anaconda3\\lib\\site-packages\\ipykernel_launcher.py:29: SettingWithCopyWarning: \n",
      "A value is trying to be set on a copy of a slice from a DataFrame.\n",
      "Try using .loc[row_indexer,col_indexer] = value instead\n",
      "\n",
      "See the caveats in the documentation: http://pandas.pydata.org/pandas-docs/stable/indexing.html#indexing-view-versus-copy\n",
      "C:\\Users\\adity\\Anaconda3\\lib\\site-packages\\pandas\\core\\indexing.py:543: SettingWithCopyWarning: \n",
      "A value is trying to be set on a copy of a slice from a DataFrame.\n",
      "Try using .loc[row_indexer,col_indexer] = value instead\n",
      "\n",
      "See the caveats in the documentation: http://pandas.pydata.org/pandas-docs/stable/indexing.html#indexing-view-versus-copy\n",
      "  self.obj[item] = s\n",
      "C:\\Users\\adity\\Anaconda3\\lib\\site-packages\\ipykernel_launcher.py:38: SettingWithCopyWarning: \n",
      "A value is trying to be set on a copy of a slice from a DataFrame.\n",
      "Try using .loc[row_indexer,col_indexer] = value instead\n",
      "\n",
      "See the caveats in the documentation: http://pandas.pydata.org/pandas-docs/stable/indexing.html#indexing-view-versus-copy\n",
      "C:\\Users\\adity\\Anaconda3\\lib\\site-packages\\ipykernel_launcher.py:39: SettingWithCopyWarning: \n",
      "A value is trying to be set on a copy of a slice from a DataFrame.\n",
      "Try using .loc[row_indexer,col_indexer] = value instead\n",
      "\n",
      "See the caveats in the documentation: http://pandas.pydata.org/pandas-docs/stable/indexing.html#indexing-view-versus-copy\n",
      "C:\\Users\\adity\\Anaconda3\\lib\\site-packages\\ipykernel_launcher.py:43: SettingWithCopyWarning: \n",
      "A value is trying to be set on a copy of a slice from a DataFrame.\n",
      "Try using .loc[row_indexer,col_indexer] = value instead\n",
      "\n",
      "See the caveats in the documentation: http://pandas.pydata.org/pandas-docs/stable/indexing.html#indexing-view-versus-copy\n",
      "C:\\Users\\adity\\Anaconda3\\lib\\site-packages\\ipykernel_launcher.py:44: SettingWithCopyWarning: \n",
      "A value is trying to be set on a copy of a slice from a DataFrame.\n",
      "Try using .loc[row_indexer,col_indexer] = value instead\n",
      "\n",
      "See the caveats in the documentation: http://pandas.pydata.org/pandas-docs/stable/indexing.html#indexing-view-versus-copy\n",
      "C:\\Users\\adity\\Anaconda3\\lib\\site-packages\\ipykernel_launcher.py:48: SettingWithCopyWarning: \n",
      "A value is trying to be set on a copy of a slice from a DataFrame.\n",
      "Try using .loc[row_indexer,col_indexer] = value instead\n",
      "\n",
      "See the caveats in the documentation: http://pandas.pydata.org/pandas-docs/stable/indexing.html#indexing-view-versus-copy\n"
     ]
    }
   ],
   "source": [
    "'''\n",
    "Feature Engineering\n",
    "'''\n",
    "\n",
    "# Separating the member_id column of test dataframe to help create a csv after predictions\n",
    "test_member_id = pd.DataFrame(dfTest['member_id'])\n",
    "\n",
    "\n",
    "# Creating target variable pandas series from train dataframe, this will be used by cross validation to calculate\n",
    "# the accuracy of the model\n",
    "train_target = pd.DataFrame(dfTrain['loan_status'])\n",
    "\n",
    "\n",
    "# It's good to create a copy of train and test dataframes. this way we can play around different features as we tune the\n",
    "# performance of the classifier with important features\n",
    "selected_cols = ['emp_length', 'loan_amnt', 'funded_amnt', 'funded_amnt_inv', 'sub_grade', 'int_rate', 'annual_inc', 'dti', 'mths_since_last_delinq', 'mths_since_last_record', 'open_acc', 'revol_bal', 'revol_util', 'total_acc', 'total_rec_int', 'total_rec_late_fee', 'mths_since_last_major_derog', 'last_week_pay', 'tot_cur_bal', 'total_rev_hi_lim', 'tot_coll_amt', 'recoveries', 'collection_recovery_fee', 'term', 'acc_now_delinq', 'collections_12_mths_ex_med']\n",
    "finalTrain = dfTrain[selected_cols]\n",
    "finalTest = dfTest[selected_cols]\n",
    "\n",
    "# How big the loan a person has taken with respect to his earnings, annual income to loan amount ratio\n",
    "finalTrain['loan_to_income'] = finalTrain['annual_inc']/finalTrain['funded_amnt_inv']\n",
    "finalTest['loan_to_income'] = finalTest['annual_inc']/finalTest['funded_amnt_inv']\n",
    "\n",
    "\n",
    "# All these attributes indicate that the repayment was not all hunky-dory. All the amounts caclulated are ratios \n",
    "# like, recovery to the loan amount. This column gives a magnitude of how much the repayment has gone off course \n",
    "# in terms of ratios.\n",
    "finalTrain['bad_state'] = finalTrain['acc_now_delinq'] + (finalTrain['total_rec_late_fee']/finalTrain['funded_amnt_inv']) + (finalTrain['recoveries']/finalTrain['funded_amnt_inv']) + (finalTrain['collection_recovery_fee']/finalTrain['funded_amnt_inv']) + (finalTrain['collections_12_mths_ex_med']/finalTrain['funded_amnt_inv'])\n",
    "finalTest['bad_state'] = finalTest['acc_now_delinq'] + (finalTest['total_rec_late_fee']/finalTest['funded_amnt_inv']) + (finalTest['recoveries']/finalTest['funded_amnt_inv']) + (finalTest['collection_recovery_fee']/finalTest['funded_amnt_inv']) + (finalTrain['collections_12_mths_ex_med']/finalTest['funded_amnt_inv'])\n",
    "\n",
    "# For the sake of this model, I have used just a boolean flag if things had gone bad, with this case I didn't see\n",
    "# a benifit of including above computations\n",
    "finalTrain.loc[finalTrain['bad_state'] > 0, 'bad_state'] = 1\n",
    "finalTest.loc[finalTest['bad_state'] > 0, 'bad_state'] = 1\n",
    "\n",
    "\n",
    "# Total number of available/unused 'credit lines'\n",
    "finalTrain['avl_lines'] = finalTrain['total_acc'] - finalTrain['open_acc']\n",
    "finalTest['avl_lines'] = finalTest['total_acc'] - finalTest['open_acc']\n",
    "\n",
    "\n",
    "# Interest paid so far\n",
    "finalTrain['int_paid'] = finalTrain['total_rec_int'] + finalTrain['total_rec_late_fee']\n",
    "finalTest['int_paid'] = finalTest['total_rec_int'] + finalTest['total_rec_late_fee']\n",
    "\n",
    "\n",
    "# Calculating EMIs paid (in terms of percent)\n",
    "finalTrain['emi_paid_progress_perc'] = ((finalTrain['last_week_pay']/(finalTrain['term']/12*52+1))*100)\n",
    "finalTest['emi_paid_progress_perc'] = ((finalTest['last_week_pay']/(finalTest['term']/12*52+1))*100)\n",
    "\n",
    "\n",
    "# Calculating total repayments received so far, in terms of EMI or recoveries after charge off\n",
    "finalTrain['total_repayment_progress'] = ((finalTrain['last_week_pay']/(finalTrain['term']/12*52+1))*100) + ((finalTrain['recoveries']/finalTrain['funded_amnt_inv']) * 100)\n",
    "finalTest['total_repayment_progress'] = ((finalTest['last_week_pay']/(finalTest['term']/12*52+1))*100) + ((finalTest['recoveries']/finalTest['funded_amnt_inv']) * 100)"
   ]
  },
  {
   "cell_type": "code",
   "execution_count": 8,
   "metadata": {},
   "outputs": [
    {
     "data": {
      "text/plain": [
       "emp_length                       0\n",
       "loan_amnt                        0\n",
       "funded_amnt                      0\n",
       "funded_amnt_inv                  0\n",
       "sub_grade                        0\n",
       "int_rate                         0\n",
       "annual_inc                       0\n",
       "dti                              0\n",
       "mths_since_last_delinq           0\n",
       "mths_since_last_record           0\n",
       "open_acc                         0\n",
       "revol_bal                        0\n",
       "revol_util                       0\n",
       "total_acc                        0\n",
       "total_rec_int                    0\n",
       "total_rec_late_fee               0\n",
       "mths_since_last_major_derog      0\n",
       "last_week_pay                    0\n",
       "tot_cur_bal                      0\n",
       "total_rev_hi_lim                 0\n",
       "tot_coll_amt                     0\n",
       "recoveries                       0\n",
       "collection_recovery_fee          0\n",
       "term                             0\n",
       "acc_now_delinq                   0\n",
       "collections_12_mths_ex_med       0\n",
       "loan_to_income                   0\n",
       "bad_state                      139\n",
       "avl_lines                        0\n",
       "int_paid                         0\n",
       "emi_paid_progress_perc           0\n",
       "total_repayment_progress       113\n",
       "dtype: int64"
      ]
     },
     "execution_count": 8,
     "metadata": {},
     "output_type": "execute_result"
    }
   ],
   "source": [
    "finalTrain.isna().sum()"
   ]
  },
  {
   "cell_type": "code",
   "execution_count": 9,
   "metadata": {},
   "outputs": [],
   "source": [
    "'''\n",
    "Split data set into train-test-cv\n",
    "Train model & predict\n",
    "'''\n",
    "# Split train and cross validation sets\n",
    "X_train, X_test, y_train, y_test = train_test_split(np.array(finalTrain), np.array(train_target), test_size=0.30)\n",
    "eval_set=[(X_test, y_test)]"
   ]
  },
  {
   "cell_type": "code",
   "execution_count": 10,
   "metadata": {},
   "outputs": [
    {
     "name": "stdout",
     "output_type": "stream",
     "text": [
      "Initializing xgboost.sklearn.XGBClassifier and starting training...\n"
     ]
    },
    {
     "name": "stderr",
     "output_type": "stream",
     "text": [
      "C:\\Users\\adity\\Anaconda3\\lib\\site-packages\\sklearn\\preprocessing\\label.py:219: DataConversionWarning: A column-vector y was passed when a 1d array was expected. Please change the shape of y to (n_samples, ), for example using ravel().\n",
      "  y = column_or_1d(y, warn=True)\n",
      "C:\\Users\\adity\\Anaconda3\\lib\\site-packages\\sklearn\\preprocessing\\label.py:252: DataConversionWarning: A column-vector y was passed when a 1d array was expected. Please change the shape of y to (n_samples, ), for example using ravel().\n",
      "  y = column_or_1d(y, warn=True)\n"
     ]
    },
    {
     "name": "stdout",
     "output_type": "stream",
     "text": [
      "[0]\tvalidation_0-auc:0.903861\n",
      "Will train until validation_0-auc hasn't improved in 1 rounds.\n",
      "[1]\tvalidation_0-auc:0.908051\n",
      "[2]\tvalidation_0-auc:0.91033\n",
      "[3]\tvalidation_0-auc:0.914025\n",
      "[4]\tvalidation_0-auc:0.916147\n",
      "[5]\tvalidation_0-auc:0.917242\n",
      "[6]\tvalidation_0-auc:0.91964\n",
      "[7]\tvalidation_0-auc:0.920296\n",
      "[8]\tvalidation_0-auc:0.921683\n",
      "[9]\tvalidation_0-auc:0.92294\n",
      "[10]\tvalidation_0-auc:0.924746\n",
      "[11]\tvalidation_0-auc:0.925604\n",
      "[12]\tvalidation_0-auc:0.926036\n",
      "[13]\tvalidation_0-auc:0.926635\n",
      "[14]\tvalidation_0-auc:0.927182\n",
      "[15]\tvalidation_0-auc:0.927706\n",
      "[16]\tvalidation_0-auc:0.928041\n",
      "[17]\tvalidation_0-auc:0.928558\n",
      "[18]\tvalidation_0-auc:0.928747\n",
      "[19]\tvalidation_0-auc:0.928972\n",
      "[20]\tvalidation_0-auc:0.929025\n",
      "[21]\tvalidation_0-auc:0.929222\n",
      "[22]\tvalidation_0-auc:0.929441\n",
      "[23]\tvalidation_0-auc:0.929841\n",
      "[24]\tvalidation_0-auc:0.930051\n",
      "[25]\tvalidation_0-auc:0.930181\n",
      "[26]\tvalidation_0-auc:0.930373\n",
      "[27]\tvalidation_0-auc:0.930705\n",
      "[28]\tvalidation_0-auc:0.930875\n",
      "[29]\tvalidation_0-auc:0.931019\n",
      "[30]\tvalidation_0-auc:0.931098\n",
      "[31]\tvalidation_0-auc:0.93118\n",
      "[32]\tvalidation_0-auc:0.931323\n",
      "[33]\tvalidation_0-auc:0.931704\n",
      "[34]\tvalidation_0-auc:0.931705\n",
      "[35]\tvalidation_0-auc:0.931772\n",
      "[36]\tvalidation_0-auc:0.931912\n",
      "[37]\tvalidation_0-auc:0.932177\n",
      "[38]\tvalidation_0-auc:0.93221\n",
      "[39]\tvalidation_0-auc:0.932403\n",
      "[40]\tvalidation_0-auc:0.932465\n",
      "[41]\tvalidation_0-auc:0.932674\n",
      "[42]\tvalidation_0-auc:0.932798\n",
      "[43]\tvalidation_0-auc:0.932886\n",
      "[44]\tvalidation_0-auc:0.932987\n",
      "[45]\tvalidation_0-auc:0.933022\n",
      "[46]\tvalidation_0-auc:0.933167\n",
      "[47]\tvalidation_0-auc:0.933292\n",
      "[48]\tvalidation_0-auc:0.933438\n",
      "[49]\tvalidation_0-auc:0.933458\n",
      "[50]\tvalidation_0-auc:0.933607\n",
      "[51]\tvalidation_0-auc:0.933733\n",
      "[52]\tvalidation_0-auc:0.933805\n",
      "[53]\tvalidation_0-auc:0.933841\n",
      "[54]\tvalidation_0-auc:0.933948\n",
      "[55]\tvalidation_0-auc:0.934024\n",
      "[56]\tvalidation_0-auc:0.934161\n",
      "[57]\tvalidation_0-auc:0.934226\n",
      "[58]\tvalidation_0-auc:0.934272\n",
      "[59]\tvalidation_0-auc:0.934371\n",
      "[60]\tvalidation_0-auc:0.934414\n",
      "[61]\tvalidation_0-auc:0.934942\n",
      "[62]\tvalidation_0-auc:0.934988\n",
      "[63]\tvalidation_0-auc:0.935106\n",
      "[64]\tvalidation_0-auc:0.935157\n",
      "[65]\tvalidation_0-auc:0.935413\n",
      "[66]\tvalidation_0-auc:0.935536\n",
      "[67]\tvalidation_0-auc:0.935578\n",
      "[68]\tvalidation_0-auc:0.935631\n",
      "[69]\tvalidation_0-auc:0.935889\n",
      "[70]\tvalidation_0-auc:0.936237\n",
      "[71]\tvalidation_0-auc:0.936272\n",
      "[72]\tvalidation_0-auc:0.936323\n",
      "[73]\tvalidation_0-auc:0.936516\n",
      "[74]\tvalidation_0-auc:0.936537\n",
      "[75]\tvalidation_0-auc:0.936632\n",
      "[76]\tvalidation_0-auc:0.936837\n",
      "[77]\tvalidation_0-auc:0.937028\n",
      "[78]\tvalidation_0-auc:0.937219\n",
      "[79]\tvalidation_0-auc:0.937282\n",
      "[80]\tvalidation_0-auc:0.937362\n",
      "[81]\tvalidation_0-auc:0.937396\n",
      "[82]\tvalidation_0-auc:0.937738\n",
      "[83]\tvalidation_0-auc:0.937813\n",
      "[84]\tvalidation_0-auc:0.937857\n",
      "[85]\tvalidation_0-auc:0.938092\n",
      "[86]\tvalidation_0-auc:0.938112\n",
      "[87]\tvalidation_0-auc:0.93826\n",
      "[88]\tvalidation_0-auc:0.93826\n",
      "Stopping. Best iteration:\n",
      "[87]\tvalidation_0-auc:0.93826\n",
      "\n",
      "0:12:30.704604\n"
     ]
    }
   ],
   "source": [
    "print('Initializing xgboost.sklearn.XGBClassifier and starting training...')\n",
    "\n",
    "st = datetime.now()\n",
    "\n",
    "clf = xgboost.sklearn.XGBClassifier(\n",
    "    objective=\"binary:logistic\", \n",
    "    learning_rate=0.05, \n",
    "    seed=9616, \n",
    "    max_depth=20, \n",
    "    gamma=10, \n",
    "    n_estimators=500)\n",
    "\n",
    "clf.fit(X_train, y_train, early_stopping_rounds=1, eval_metric=\"auc\", eval_set=eval_set, verbose=True)\n",
    "\n",
    "print(datetime.now()-st)\n",
    "\n",
    "y_pred = clf.predict(X_test)"
   ]
  },
  {
   "cell_type": "code",
   "execution_count": 11,
   "metadata": {},
   "outputs": [
    {
     "name": "stdout",
     "output_type": "stream",
     "text": [
      "Accuracy: 91.5488107983%\n",
      "ROC-AUC: 84.6142411883%\n"
     ]
    },
    {
     "name": "stderr",
     "output_type": "stream",
     "text": [
      "C:\\Users\\adity\\Anaconda3\\lib\\site-packages\\ipykernel_launcher.py:12: DeprecationWarning: \n",
      ".ix is deprecated. Please use\n",
      ".loc for label based indexing or\n",
      ".iloc for positional indexing\n",
      "\n",
      "See the documentation here:\n",
      "http://pandas.pydata.org/pandas-docs/stable/indexing.html#ix-indexer-is-deprecated\n",
      "  if sys.path[0] == '':\n"
     ]
    }
   ],
   "source": [
    "submission_file_name = 'Submission_'\n",
    "\n",
    "accuracy = accuracy_score(np.array(y_test).flatten(), y_pred)\n",
    "print(\"Accuracy: %.10f%%\" % (accuracy * 100.0))\n",
    "submission_file_name = submission_file_name + (\"_Accuracy_%.6f\" % (accuracy * 100)) + '_'\n",
    "\n",
    "accuracy_per_roc_auc = roc_auc_score(np.array(y_test).flatten(), y_pred)\n",
    "print(\"ROC-AUC: %.10f%%\" % (accuracy_per_roc_auc * 100))\n",
    "submission_file_name = submission_file_name + (\"_ROC-AUC_%.6f\" % (accuracy_per_roc_auc * 100))\n",
    "\n",
    "final_pred = pd.DataFrame(clf.predict_proba(np.array(finalTest)))\n",
    "dfSub = pd.concat([test_member_id, final_pred.ix[:, 1:2]], axis=1)\n",
    "dfSub.rename(columns={1:'loan_status'}, inplace=True)\n",
    "dfSub.to_csv((('%s.csv') % (submission_file_name)), index=False)\n"
   ]
  },
  {
   "cell_type": "code",
   "execution_count": 13,
   "metadata": {},
   "outputs": [
    {
     "name": "stdout",
     "output_type": "stream",
     "text": [
      "[5.21107670e-03 1.13815935e-02 7.52502063e-04 9.21815075e-03\n",
      " 1.67055458e-01 2.75302887e-01 1.83046125e-02 2.90089548e-02\n",
      " 1.07795922e-02 1.12122810e-02 8.54089856e-03 1.86996758e-02\n",
      " 2.75039505e-02 7.88245909e-03 3.95439826e-02 5.26751438e-03\n",
      " 6.49033021e-03 1.92113772e-01 3.05892099e-02 2.04680562e-02\n",
      " 6.43389253e-03 9.85777751e-03 0.00000000e+00 7.75077147e-03\n",
      " 1.88125523e-05 1.69312960e-04 2.55662575e-02 5.30513981e-03\n",
      " 1.95838660e-02 2.05056812e-03 1.53134167e-02 1.26232225e-02]\n",
      "0 emp_length\n",
      "1 loan_amnt\n",
      "2 funded_amnt\n",
      "3 funded_amnt_inv\n",
      "4 sub_grade\n",
      "5 int_rate\n",
      "6 annual_inc\n",
      "7 dti\n",
      "8 mths_since_last_delinq\n",
      "9 mths_since_last_record\n",
      "10 open_acc\n",
      "11 revol_bal\n",
      "12 revol_util\n",
      "13 total_acc\n",
      "14 total_rec_int\n",
      "15 total_rec_late_fee\n",
      "16 mths_since_last_major_derog\n",
      "17 last_week_pay\n",
      "18 tot_cur_bal\n",
      "19 total_rev_hi_lim\n",
      "20 tot_coll_amt\n",
      "21 recoveries\n",
      "22 collection_recovery_fee\n",
      "23 term\n",
      "24 acc_now_delinq\n",
      "25 collections_12_mths_ex_med\n",
      "26 loan_to_income\n",
      "27 bad_state\n",
      "28 avl_lines\n",
      "29 int_paid\n",
      "30 emi_paid_progress_perc\n",
      "31 total_repayment_progress\n"
     ]
    },
    {
     "data": {
      "image/png": "[encoded data removed]",
      "text/plain": [
       "<Figure size 432x288 with 1 Axes>"
      ]
     },
     "metadata": {
      "needs_background": "light"
     },
     "output_type": "display_data"
    }
   ],
   "source": [
    "import matplotlib.pyplot as plt\n",
    "print(clf.feature_importances_)\n",
    "idx = 0\n",
    "for x in list(finalTrain):\n",
    "    print('%d %s' % (idx, x))\n",
    "    idx = idx + 1\n",
    "plt.bar(range(len(clf.feature_importances_)), clf.feature_importances_)\n",
    "plt.show()"
   ]
  },
  {
   "cell_type": "code",
   "execution_count": null,
   "metadata": {},
   "outputs": [],
   "source": []
  }
 ],
 "metadata": {
  "kernelspec": {
   "display_name": "Python 3",
   "language": "python",
   "name": "python3"
  },
  "language_info": {
   "codemirror_mode": {
    "name": "ipython",
    "version": 3
   },
   "file_extension": ".py",
   "mimetype": "text/x-python",
   "name": "python",
   "nbconvert_exporter": "python",
   "pygments_lexer": "ipython3",
   "version": "3.7.0"
  }
 },
 "nbformat": 4,
 "nbformat_minor": 2
}
